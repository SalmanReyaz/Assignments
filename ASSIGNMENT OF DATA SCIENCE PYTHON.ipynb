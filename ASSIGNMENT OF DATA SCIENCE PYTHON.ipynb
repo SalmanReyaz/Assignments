{
 "cells": [
  {
   "cell_type": "markdown",
   "id": "bc1c3bb6",
   "metadata": {},
   "source": [
    "1. Create one variable containing following type of data:"
   ]
  },
  {
   "cell_type": "code",
   "execution_count": 123,
   "id": "54ef1fba",
   "metadata": {},
   "outputs": [],
   "source": [
    "#(a). String\n",
    "\n",
    "\n",
    "s =\"Sam\" #string form"
   ]
  },
  {
   "cell_type": "code",
   "execution_count": 124,
   "id": "f1ec8951",
   "metadata": {},
   "outputs": [
    {
     "data": {
      "text/plain": [
       "'Sam'"
      ]
     },
     "execution_count": 124,
     "metadata": {},
     "output_type": "execute_result"
    }
   ],
   "source": [
    "s"
   ]
  },
  {
   "cell_type": "code",
   "execution_count": 125,
   "id": "0773dfa5",
   "metadata": {},
   "outputs": [
    {
     "data": {
      "text/plain": [
       "str"
      ]
     },
     "execution_count": 125,
     "metadata": {},
     "output_type": "execute_result"
    }
   ],
   "source": [
    "type(s)"
   ]
  },
  {
   "cell_type": "code",
   "execution_count": 126,
   "id": "8cc08241",
   "metadata": {},
   "outputs": [],
   "source": [
    "# b.List\n",
    "\n",
    "l = [2,4,5,6,\"Pwskills\",3+4j,50.45,True] #List "
   ]
  },
  {
   "cell_type": "code",
   "execution_count": 127,
   "id": "6c6cf1ae",
   "metadata": {},
   "outputs": [
    {
     "data": {
      "text/plain": [
       "[2, 4, 5, 6, 'Pwskills', (3+4j), 50.45, True]"
      ]
     },
     "execution_count": 127,
     "metadata": {},
     "output_type": "execute_result"
    }
   ],
   "source": [
    "l"
   ]
  },
  {
   "cell_type": "code",
   "execution_count": 128,
   "id": "d656b358",
   "metadata": {},
   "outputs": [
    {
     "data": {
      "text/plain": [
       "list"
      ]
     },
     "execution_count": 128,
     "metadata": {},
     "output_type": "execute_result"
    }
   ],
   "source": [
    "type(l)"
   ]
  },
  {
   "cell_type": "code",
   "execution_count": 129,
   "id": "7b313532",
   "metadata": {},
   "outputs": [],
   "source": [
    "f =[34,63,2,6,\"India\",45-6j,535.64,True]"
   ]
  },
  {
   "cell_type": "code",
   "execution_count": 130,
   "id": "f9231293",
   "metadata": {},
   "outputs": [
    {
     "data": {
      "text/plain": [
       "[34, 63, 2, 6, 'India', (45-6j), 535.64, True]"
      ]
     },
     "execution_count": 130,
     "metadata": {},
     "output_type": "execute_result"
    }
   ],
   "source": [
    "f"
   ]
  },
  {
   "cell_type": "code",
   "execution_count": 131,
   "id": "eb857bf3",
   "metadata": {},
   "outputs": [
    {
     "data": {
      "text/plain": [
       "list"
      ]
     },
     "execution_count": 131,
     "metadata": {},
     "output_type": "execute_result"
    }
   ],
   "source": [
    "type(f)"
   ]
  },
  {
   "cell_type": "markdown",
   "id": "186f631e",
   "metadata": {},
   "source": [
    "FLOATING DATA TYPE"
   ]
  },
  {
   "cell_type": "code",
   "execution_count": 132,
   "id": "31538945",
   "metadata": {},
   "outputs": [],
   "source": [
    "#C.Float\n",
    "\n",
    "b = 45.45"
   ]
  },
  {
   "cell_type": "code",
   "execution_count": 133,
   "id": "7d8e917d",
   "metadata": {},
   "outputs": [
    {
     "data": {
      "text/plain": [
       "45.45"
      ]
     },
     "execution_count": 133,
     "metadata": {},
     "output_type": "execute_result"
    }
   ],
   "source": [
    "b"
   ]
  },
  {
   "cell_type": "code",
   "execution_count": 134,
   "id": "8d87c811",
   "metadata": {},
   "outputs": [
    {
     "data": {
      "text/plain": [
       "float"
      ]
     },
     "execution_count": 134,
     "metadata": {},
     "output_type": "execute_result"
    }
   ],
   "source": [
    "type(b)"
   ]
  },
  {
   "cell_type": "code",
   "execution_count": 135,
   "id": "d6c575ff",
   "metadata": {},
   "outputs": [],
   "source": [
    "O = 0.35"
   ]
  },
  {
   "cell_type": "code",
   "execution_count": 136,
   "id": "d3b46df5",
   "metadata": {},
   "outputs": [
    {
     "data": {
      "text/plain": [
       "0.35"
      ]
     },
     "execution_count": 136,
     "metadata": {},
     "output_type": "execute_result"
    }
   ],
   "source": [
    "O"
   ]
  },
  {
   "cell_type": "code",
   "execution_count": 137,
   "id": "ade89f89",
   "metadata": {},
   "outputs": [
    {
     "data": {
      "text/plain": [
       "float"
      ]
     },
     "execution_count": 137,
     "metadata": {},
     "output_type": "execute_result"
    }
   ],
   "source": [
    "type(O)"
   ]
  },
  {
   "cell_type": "markdown",
   "id": "562866cb",
   "metadata": {},
   "source": [
    "TUPLE DATA TYPE"
   ]
  },
  {
   "cell_type": "code",
   "execution_count": 138,
   "id": "c4d16783",
   "metadata": {},
   "outputs": [],
   "source": [
    "c = (34,5,54,5,\"India\",True,\"TajMahal\")"
   ]
  },
  {
   "cell_type": "code",
   "execution_count": 139,
   "id": "084637a7",
   "metadata": {},
   "outputs": [
    {
     "data": {
      "text/plain": [
       "tuple"
      ]
     },
     "execution_count": 139,
     "metadata": {},
     "output_type": "execute_result"
    }
   ],
   "source": [
    "type(c)"
   ]
  },
  {
   "cell_type": "code",
   "execution_count": 140,
   "id": "f43885ec",
   "metadata": {},
   "outputs": [],
   "source": [
    "C1 = (3,1,6,636,6,6,75)"
   ]
  },
  {
   "cell_type": "code",
   "execution_count": 104,
   "id": "691de565",
   "metadata": {},
   "outputs": [
    {
     "data": {
      "text/plain": [
       "(3, 1, 6, 636, 6, 6, 75)"
      ]
     },
     "execution_count": 104,
     "metadata": {},
     "output_type": "execute_result"
    }
   ],
   "source": [
    "C1"
   ]
  },
  {
   "cell_type": "code",
   "execution_count": 105,
   "id": "6c6bcd30",
   "metadata": {},
   "outputs": [
    {
     "data": {
      "text/plain": [
       "tuple"
      ]
     },
     "execution_count": 105,
     "metadata": {},
     "output_type": "execute_result"
    }
   ],
   "source": [
    "type(C1)"
   ]
  },
  {
   "cell_type": "markdown",
   "id": "6a33e38e",
   "metadata": {},
   "source": [
    "2. Given are some folliwing variables conataining data:"
   ]
  },
  {
   "cell_type": "markdown",
   "id": "b360186a",
   "metadata": {},
   "source": [
    "var1 = ''"
   ]
  },
  {
   "cell_type": "code",
   "execution_count": 18,
   "id": "237e3986",
   "metadata": {},
   "outputs": [],
   "source": [
    "var1= ''"
   ]
  },
  {
   "cell_type": "code",
   "execution_count": 19,
   "id": "97f4c281",
   "metadata": {},
   "outputs": [
    {
     "data": {
      "text/plain": [
       "str"
      ]
     },
     "execution_count": 19,
     "metadata": {},
     "output_type": "execute_result"
    }
   ],
   "source": [
    "type(var1)"
   ]
  },
  {
   "cell_type": "code",
   "execution_count": 20,
   "id": "8a254cd4",
   "metadata": {},
   "outputs": [],
   "source": [
    "var2 = '[DS,ML,PYTHON]'"
   ]
  },
  {
   "cell_type": "code",
   "execution_count": 21,
   "id": "58b863e7",
   "metadata": {},
   "outputs": [
    {
     "data": {
      "text/plain": [
       "str"
      ]
     },
     "execution_count": 21,
     "metadata": {},
     "output_type": "execute_result"
    }
   ],
   "source": [
    "type(var2)"
   ]
  },
  {
   "cell_type": "code",
   "execution_count": 22,
   "id": "d3e37264",
   "metadata": {},
   "outputs": [],
   "source": [
    "var3 = ['DS','ML','PYTHON']"
   ]
  },
  {
   "cell_type": "code",
   "execution_count": 23,
   "id": "3006c54b",
   "metadata": {},
   "outputs": [
    {
     "data": {
      "text/plain": [
       "['DS', 'ML', 'PYTHON']"
      ]
     },
     "execution_count": 23,
     "metadata": {},
     "output_type": "execute_result"
    }
   ],
   "source": [
    "var3"
   ]
  },
  {
   "cell_type": "code",
   "execution_count": 24,
   "id": "a6d178ab",
   "metadata": {},
   "outputs": [
    {
     "data": {
      "text/plain": [
       "list"
      ]
     },
     "execution_count": 24,
     "metadata": {},
     "output_type": "execute_result"
    }
   ],
   "source": [
    "type(var3)"
   ]
  },
  {
   "cell_type": "code",
   "execution_count": 25,
   "id": "1e168bf4",
   "metadata": {},
   "outputs": [],
   "source": [
    "var4 = 1"
   ]
  },
  {
   "cell_type": "code",
   "execution_count": 26,
   "id": "fd7cd164",
   "metadata": {},
   "outputs": [
    {
     "data": {
      "text/plain": [
       "1"
      ]
     },
     "execution_count": 26,
     "metadata": {},
     "output_type": "execute_result"
    }
   ],
   "source": [
    "var4"
   ]
  },
  {
   "cell_type": "code",
   "execution_count": 27,
   "id": "04b137f1",
   "metadata": {},
   "outputs": [
    {
     "data": {
      "text/plain": [
       "int"
      ]
     },
     "execution_count": 27,
     "metadata": {},
     "output_type": "execute_result"
    }
   ],
   "source": [
    "type(var4)"
   ]
  },
  {
   "cell_type": "markdown",
   "id": "caf838f0",
   "metadata": {},
   "source": [
    "Q3. Explain the use of the following operators using an example"
   ]
  },
  {
   "cell_type": "markdown",
   "id": "6a3c0526",
   "metadata": {},
   "source": [
    "(a). /"
   ]
  },
  {
   "cell_type": "code",
   "execution_count": 33,
   "id": "5ca676c0",
   "metadata": {
    "scrolled": true
   },
   "outputs": [
    {
     "data": {
      "text/plain": [
       "20.833333333333332"
      ]
     },
     "execution_count": 33,
     "metadata": {},
     "output_type": "execute_result"
    }
   ],
   "source": [
    "250/12"
   ]
  },
  {
   "cell_type": "code",
   "execution_count": 31,
   "id": "54a76127",
   "metadata": {},
   "outputs": [
    {
     "data": {
      "text/plain": [
       "2.0"
      ]
     },
     "execution_count": 31,
     "metadata": {},
     "output_type": "execute_result"
    }
   ],
   "source": [
    "10/5"
   ]
  },
  {
   "cell_type": "code",
   "execution_count": 32,
   "id": "4595bc61",
   "metadata": {},
   "outputs": [
    {
     "data": {
      "text/plain": [
       "4.0"
      ]
     },
     "execution_count": 32,
     "metadata": {},
     "output_type": "execute_result"
    }
   ],
   "source": [
    "100/25"
   ]
  },
  {
   "cell_type": "markdown",
   "id": "be0fe1a4",
   "metadata": {},
   "source": [
    "PERCENTAGE(%)"
   ]
  },
  {
   "cell_type": "code",
   "execution_count": 41,
   "id": "db3c8aae",
   "metadata": {},
   "outputs": [
    {
     "data": {
      "text/plain": [
       "1"
      ]
     },
     "execution_count": 41,
     "metadata": {},
     "output_type": "execute_result"
    }
   ],
   "source": [
    "21%2"
   ]
  },
  {
   "cell_type": "code",
   "execution_count": 40,
   "id": "ec80750e",
   "metadata": {},
   "outputs": [
    {
     "data": {
      "text/plain": [
       "4"
      ]
     },
     "execution_count": 40,
     "metadata": {},
     "output_type": "execute_result"
    }
   ],
   "source": [
    "24%5"
   ]
  },
  {
   "cell_type": "code",
   "execution_count": 39,
   "id": "0a68209e",
   "metadata": {},
   "outputs": [
    {
     "data": {
      "text/plain": [
       "5"
      ]
     },
     "execution_count": 39,
     "metadata": {},
     "output_type": "execute_result"
    }
   ],
   "source": [
    "500%15"
   ]
  },
  {
   "cell_type": "markdown",
   "id": "e426787c",
   "metadata": {},
   "source": [
    "//"
   ]
  },
  {
   "cell_type": "code",
   "execution_count": 42,
   "id": "7fb165d0",
   "metadata": {},
   "outputs": [
    {
     "data": {
      "text/plain": [
       "15"
      ]
     },
     "execution_count": 42,
     "metadata": {},
     "output_type": "execute_result"
    }
   ],
   "source": [
    "30//2"
   ]
  },
  {
   "cell_type": "code",
   "execution_count": 46,
   "id": "a9a1d782",
   "metadata": {},
   "outputs": [
    {
     "data": {
      "text/plain": [
       "1"
      ]
     },
     "execution_count": 46,
     "metadata": {},
     "output_type": "execute_result"
    }
   ],
   "source": [
    "40//30"
   ]
  },
  {
   "cell_type": "code",
   "execution_count": 47,
   "id": "a2efa77a",
   "metadata": {},
   "outputs": [
    {
     "data": {
      "text/plain": [
       "0"
      ]
     },
     "execution_count": 47,
     "metadata": {},
     "output_type": "execute_result"
    }
   ],
   "source": [
    "20//40"
   ]
  },
  {
   "cell_type": "code",
   "execution_count": 48,
   "id": "65270500",
   "metadata": {},
   "outputs": [
    {
     "data": {
      "text/plain": [
       "4"
      ]
     },
     "execution_count": 48,
     "metadata": {},
     "output_type": "execute_result"
    }
   ],
   "source": [
    "80//20"
   ]
  },
  {
   "cell_type": "code",
   "execution_count": 49,
   "id": "291d0b24",
   "metadata": {},
   "outputs": [
    {
     "data": {
      "text/plain": [
       "2"
      ]
     },
     "execution_count": 49,
     "metadata": {},
     "output_type": "execute_result"
    }
   ],
   "source": [
    "100//38"
   ]
  },
  {
   "cell_type": "markdown",
   "id": "34b1eaff",
   "metadata": {},
   "source": [
    "POWER **"
   ]
  },
  {
   "cell_type": "code",
   "execution_count": 50,
   "id": "2536072c",
   "metadata": {},
   "outputs": [
    {
     "data": {
      "text/plain": [
       "64"
      ]
     },
     "execution_count": 50,
     "metadata": {},
     "output_type": "execute_result"
    }
   ],
   "source": [
    "2**6"
   ]
  },
  {
   "cell_type": "code",
   "execution_count": 51,
   "id": "01b9f71d",
   "metadata": {},
   "outputs": [
    {
     "data": {
      "text/plain": [
       "27"
      ]
     },
     "execution_count": 51,
     "metadata": {},
     "output_type": "execute_result"
    }
   ],
   "source": [
    "3**3"
   ]
  },
  {
   "cell_type": "code",
   "execution_count": 52,
   "id": "f2a03f71",
   "metadata": {},
   "outputs": [
    {
     "data": {
      "text/plain": [
       "8"
      ]
     },
     "execution_count": 52,
     "metadata": {},
     "output_type": "execute_result"
    }
   ],
   "source": [
    "2**3"
   ]
  },
  {
   "cell_type": "code",
   "execution_count": 53,
   "id": "b38b59e8",
   "metadata": {},
   "outputs": [
    {
     "data": {
      "text/plain": [
       "256"
      ]
     },
     "execution_count": 53,
     "metadata": {},
     "output_type": "execute_result"
    }
   ],
   "source": [
    "4**4"
   ]
  },
  {
   "cell_type": "markdown",
   "id": "e87767ef",
   "metadata": {},
   "source": [
    "Q4.create a list of length 10 of your choice containing multiple types of data.Using for loop print the element and its data type."
   ]
  },
  {
   "cell_type": "code",
   "execution_count": 62,
   "id": "f6e2583b",
   "metadata": {},
   "outputs": [],
   "source": [
    "my_list= [1,3+4j,True,False,\"Pwskills\",23.46,\n",
    "    {2,24,53,63},[23,4,5],\n",
    "    {\"game\":\"Cricket\",\"Food\":\"Pizza\",\"age\":25},None\n",
    "    ,(35,6,56,6,56)]"
   ]
  },
  {
   "cell_type": "code",
   "execution_count": 63,
   "id": "4896c9d2",
   "metadata": {},
   "outputs": [
    {
     "name": "stdout",
     "output_type": "stream",
     "text": [
      "1 <class 'int'>\n",
      "(3+4j) <class 'complex'>\n",
      "True <class 'bool'>\n",
      "False <class 'bool'>\n",
      "Pwskills <class 'str'>\n",
      "23.46 <class 'float'>\n",
      "{24, 2, 53, 63} <class 'set'>\n",
      "[23, 4, 5] <class 'list'>\n",
      "{'game': 'Cricket', 'Food': 'Pizza', 'age': 25} <class 'dict'>\n",
      "(35, 6, 56, 6, 56) <class 'tuple'>\n"
     ]
    }
   ],
   "source": [
    "for element in my_list:\n",
    "    print(element,type(element))"
   ]
  },
  {
   "cell_type": "markdown",
   "id": "13c2f0e8",
   "metadata": {},
   "source": [
    "Q5. Using a while loop verify if the number A is purely divisible by number B and if so then how many times it can be divisible."
   ]
  },
  {
   "cell_type": "code",
   "execution_count": 141,
   "id": "4af56ce6",
   "metadata": {},
   "outputs": [
    {
     "name": "stdout",
     "output_type": "stream",
     "text": [
      "20 is divisible by 5 exactly 1 times.\n"
     ]
    }
   ],
   "source": [
    "def divisible_count(a,b):\n",
    "    count=0\n",
    "    while a%b == 0:\n",
    "        a//=b\n",
    "        count+= 1\n",
    "        return count\n",
    "\n",
    "A = 20\n",
    "B = 5\n",
    "\n",
    "count = divisible_count(A,B)\n",
    "print(f\"{A} is divisible by {B} exactly {count} times.\")\n",
    "        "
   ]
  },
  {
   "cell_type": "markdown",
   "id": "77b39cef",
   "metadata": {},
   "source": [
    "Q6. Create a list containing 25 int type data. using for loop and if_else condition print if the element is divisible by 3 or not."
   ]
  },
  {
   "cell_type": "code",
   "execution_count": 116,
   "id": "6bf03392",
   "metadata": {},
   "outputs": [
    {
     "name": "stdout",
     "output_type": "stream",
     "text": [
      "24 is divisible by 3\n",
      "75 is divisible by 3\n",
      "21 is divisible by 3\n",
      "258 is divisible by 3\n",
      "948 is divisible by 3\n",
      "24 is divisible by 3\n",
      "24 is divisible by 3\n",
      "76 is not divisible by 3\n"
     ]
    }
   ],
   "source": [
    "data = [2,4,5,22,16,65,26,25,26,34,24,64,75,10,28,21,100,64,265,258,262,948,24,24,76]\n",
    "\n",
    "for element in data:\n",
    "    if element %3==0:\n",
    "        print(f\"{element} is divisible by 3\")\n",
    "else:\n",
    "    print(f\"{element} is not divisible by 3\")"
   ]
  },
  {
   "cell_type": "code",
   "execution_count": 73,
   "id": "f157d5bf",
   "metadata": {},
   "outputs": [
    {
     "data": {
      "text/plain": [
       "list"
      ]
     },
     "execution_count": 73,
     "metadata": {},
     "output_type": "execute_result"
    }
   ],
   "source": [
    "type(list)"
   ]
  },
  {
   "cell_type": "markdown",
   "id": "85cb3a9c",
   "metadata": {},
   "source": [
    "Q7. What do you understand about mutable and immutable data types? Give examples for both showing this property."
   ]
  },
  {
   "cell_type": "markdown",
   "id": "25c7a764",
   "metadata": {},
   "source": [
    "MUTABLE DATA TYPES:--"
   ]
  },
  {
   "cell_type": "code",
   "execution_count": 75,
   "id": "d76dca77",
   "metadata": {},
   "outputs": [],
   "source": [
    "m= [1,3,5,\"India\",True,3+6j,45.98,None]"
   ]
  },
  {
   "cell_type": "code",
   "execution_count": 76,
   "id": "330283e1",
   "metadata": {},
   "outputs": [
    {
     "data": {
      "text/plain": [
       "list"
      ]
     },
     "execution_count": 76,
     "metadata": {},
     "output_type": "execute_result"
    }
   ],
   "source": [
    "type(m)"
   ]
  },
  {
   "cell_type": "code",
   "execution_count": 77,
   "id": "9a23f0d5",
   "metadata": {},
   "outputs": [
    {
     "data": {
      "text/plain": [
       "5"
      ]
     },
     "execution_count": 77,
     "metadata": {},
     "output_type": "execute_result"
    }
   ],
   "source": [
    "m[2]"
   ]
  },
  {
   "cell_type": "code",
   "execution_count": 78,
   "id": "789fad9e",
   "metadata": {},
   "outputs": [
    {
     "data": {
      "text/plain": [
       "(3+6j)"
      ]
     },
     "execution_count": 78,
     "metadata": {},
     "output_type": "execute_result"
    }
   ],
   "source": [
    "m[5]"
   ]
  },
  {
   "cell_type": "code",
   "execution_count": 79,
   "id": "7284e25a",
   "metadata": {},
   "outputs": [
    {
     "data": {
      "text/plain": [
       "1"
      ]
     },
     "execution_count": 79,
     "metadata": {},
     "output_type": "execute_result"
    }
   ],
   "source": [
    "m[0]"
   ]
  },
  {
   "cell_type": "code",
   "execution_count": 81,
   "id": "c87b3c33",
   "metadata": {},
   "outputs": [
    {
     "data": {
      "text/plain": [
       "45.98"
      ]
     },
     "execution_count": 81,
     "metadata": {},
     "output_type": "execute_result"
    }
   ],
   "source": [
    "m[6]"
   ]
  },
  {
   "cell_type": "code",
   "execution_count": 83,
   "id": "a46a3086",
   "metadata": {},
   "outputs": [
    {
     "data": {
      "text/plain": [
       "45.98"
      ]
     },
     "execution_count": 83,
     "metadata": {},
     "output_type": "execute_result"
    }
   ],
   "source": [
    "m[-2]"
   ]
  },
  {
   "cell_type": "code",
   "execution_count": 84,
   "id": "3886c3ce",
   "metadata": {},
   "outputs": [
    {
     "data": {
      "text/plain": [
       "'India'"
      ]
     },
     "execution_count": 84,
     "metadata": {},
     "output_type": "execute_result"
    }
   ],
   "source": [
    "m[-5]"
   ]
  },
  {
   "cell_type": "code",
   "execution_count": 85,
   "id": "34c39beb",
   "metadata": {},
   "outputs": [
    {
     "data": {
      "text/plain": [
       "(3+6j)"
      ]
     },
     "execution_count": 85,
     "metadata": {},
     "output_type": "execute_result"
    }
   ],
   "source": [
    "m[-3]"
   ]
  },
  {
   "cell_type": "markdown",
   "id": "5628d367",
   "metadata": {},
   "source": [
    "IMUTABLE DATA TYPES:--"
   ]
  },
  {
   "cell_type": "code",
   "execution_count": 89,
   "id": "c6921661",
   "metadata": {},
   "outputs": [],
   "source": [
    "D = \"BITE\""
   ]
  },
  {
   "cell_type": "code",
   "execution_count": 91,
   "id": "0593bb7d",
   "metadata": {},
   "outputs": [
    {
     "ename": "TypeError",
     "evalue": "'str' object does not support item assignment",
     "output_type": "error",
     "traceback": [
      "\u001b[1;31m---------------------------------------------------------------------------\u001b[0m",
      "\u001b[1;31mTypeError\u001b[0m                                 Traceback (most recent call last)",
      "Input \u001b[1;32mIn [91]\u001b[0m, in \u001b[0;36m<cell line: 1>\u001b[1;34m()\u001b[0m\n\u001b[1;32m----> 1\u001b[0m D[\u001b[38;5;241m2\u001b[39m] \u001b[38;5;241m=\u001b[39m \u001b[38;5;124m\"\u001b[39m\u001b[38;5;124mY\u001b[39m\u001b[38;5;124m\"\u001b[39m\n",
      "\u001b[1;31mTypeError\u001b[0m: 'str' object does not support item assignment"
     ]
    }
   ],
   "source": [
    "D[2] = \"Y\" #THIS IS IMUTABLE EXAMPLES TYPES"
   ]
  },
  {
   "cell_type": "code",
   "execution_count": 92,
   "id": "82dc19be",
   "metadata": {},
   "outputs": [],
   "source": [
    "E =\"WEAK\""
   ]
  },
  {
   "cell_type": "code",
   "execution_count": 93,
   "id": "95bbf8ca",
   "metadata": {},
   "outputs": [
    {
     "ename": "TypeError",
     "evalue": "'str' object does not support item assignment",
     "output_type": "error",
     "traceback": [
      "\u001b[1;31m---------------------------------------------------------------------------\u001b[0m",
      "\u001b[1;31mTypeError\u001b[0m                                 Traceback (most recent call last)",
      "Input \u001b[1;32mIn [93]\u001b[0m, in \u001b[0;36m<cell line: 1>\u001b[1;34m()\u001b[0m\n\u001b[1;32m----> 1\u001b[0m E[\u001b[38;5;241m3\u001b[39m] \u001b[38;5;241m=\u001b[39m \u001b[38;5;124m\"\u001b[39m\u001b[38;5;124mE\u001b[39m\u001b[38;5;124m\"\u001b[39m\n",
      "\u001b[1;31mTypeError\u001b[0m: 'str' object does not support item assignment"
     ]
    }
   ],
   "source": [
    "E[3] = \"E\""
   ]
  },
  {
   "cell_type": "code",
   "execution_count": null,
   "id": "7da9e4b3",
   "metadata": {},
   "outputs": [],
   "source": []
  },
  {
   "cell_type": "markdown",
   "id": "8b86b783",
   "metadata": {},
   "source": []
  }
 ],
 "metadata": {
  "kernelspec": {
   "display_name": "Python 3 (ipykernel)",
   "language": "python",
   "name": "python3"
  },
  "language_info": {
   "codemirror_mode": {
    "name": "ipython",
    "version": 3
   },
   "file_extension": ".py",
   "mimetype": "text/x-python",
   "name": "python",
   "nbconvert_exporter": "python",
   "pygments_lexer": "ipython3",
   "version": "3.9.12"
  }
 },
 "nbformat": 4,
 "nbformat_minor": 5
}
